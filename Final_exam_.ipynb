{
  "cells": [
    {
      "cell_type": "markdown",
      "metadata": {
        "id": "mw6Jytu8KGcN"
      },
      "source": [
        "# Problem Set 1"
      ]
    },
    {
      "cell_type": "markdown",
      "metadata": {
        "id": "HOMEi3Z9KGcT"
      },
      "source": [
        "\n",
        "\n",
        "\n",
        "**Due**: AUGUST 27, before class (before 4:00 PM).\n",
        "\n",
        "**How to submit**\n",
        "\n",
        "You need to send the `.ipynb` file with your answers plus an `.html` file, which will serve as a backup for us in case the `.ipynb` file cannot be opened on my or the TA's computer. In addition, you may also export the notebook as PDF and attach it to the email as well.\n",
        "\n",
        "Please use the following subject header for sending in your homework, so that we can make sure that nothing gets lost:\n",
        "\n",
        "Your id mentioned on offer letter: Abdullah Jahangir  \n",
        ".\n",
        "\n",
        "**Note** No help will be provided bny instructor you have to do it on your own.\n",
        "\n",
        "you will get certificates on basis its result\n",
        "\n"
      ]
    },
    {
      "cell_type": "code",
      "execution_count": 80,
      "metadata": {
        "id": "WEdIOlUnKGcW",
        "outputId": "a513524a-dbb9-4f25-a2d3-90d3f67181dc"
      },
      "outputs": [
        {
          "name": "stdout",
          "output_type": "stream",
          "text": [
            "Author: Abdullah Jahangir\n",
            "\n",
            "numpy     : 1.26.4\n",
            "scipy     : 1.14.0\n",
            "matplotlib: 3.9.1\n",
            "sklearn   : 1.5.1\n",
            "\n",
            "Last updated: 2024-08-26T18:20:08.415962+05:00\n",
            "\n",
            "Python implementation: CPython\n",
            "Python version       : 3.11.7\n",
            "IPython version      : 8.26.0\n",
            "\n",
            "Compiler    : MSC v.1937 64 bit (AMD64)\n",
            "OS          : Windows\n",
            "Release     : 10\n",
            "Machine     : AMD64\n",
            "Processor   : Intel64 Family 6 Model 154 Stepping 4, GenuineIntel\n",
            "CPU cores   : 12\n",
            "Architecture: 64bit\n",
            "\n"
          ]
        }
      ],
      "source": [
        "from watermark import watermark\n",
        "print(watermark(author=\"Abdullah Jahangir\", packages=\"numpy,scipy,matplotlib,sklearn\",))\n",
        "print(watermark())"
      ]
    },
    {
      "cell_type": "markdown",
      "metadata": {
        "id": "1P8cqRfMKGcc"
      },
      "source": [
        "The watermark package that is being used in the next code cell provides a helper function of the same name, `%watermark` for showing information about your computational environment. This is usefult to keep track of what software versions are/were being used. If you should encounter issues with the code, please make sure that your software package have the same version as the the ones shown in the pre-executed watermark cell.\n",
        "\n",
        "Before you execute the watermark cell, you need to install watermark first. If you have not done this yet. To install the watermark package, simply run\n",
        "\n",
        "    !pip install watermark\n",
        "    \n",
        "or\n",
        "\n",
        "    !conda install watermark -c conda-forge\n",
        "    \n",
        "in the a new code cell. Alternatively, you can run either of the two commands (the latter only if you have installed Anaconda or Miniconda) in your command line terminal (e.g., a Linux shell, the Terminal app on macOS, or Cygwin, Putty, etc. on Windows).\n",
        "\n",
        "For more information installing Python, please refer to the previous lectures and ask the TA for help."
      ]
    },
    {
      "cell_type": "markdown",
      "metadata": {
        "id": "UUYhLo9CKGcf"
      },
      "source": [
        "## E 1)\n",
        "\n",
        "Pick 3 machine learning application examples from the first lecture (see section 1.2 in the lecture notes, shared in group\n",
        "and answer the following questions:\n",
        "\n",
        "- What is the overall goal?\n",
        "- How would an appropriate dataset look like?\n",
        "- Which general machine learning category (supervised, unsupervised, reinforcement learning) does this problem fit in?\n",
        "- How would you evaluate the performance of your model (in very general, non technical terms)\n",
        "\n",
        "\n",
        "**Example -- Email Spam classification:**\n",
        "\n",
        "- **Goal.** A potential goal would be to learn how to classify emails as spam or non-spam.\n",
        "- **Dataset.** The dataset is a set consisting of emails as text data and their spam and non-spam labels.\n",
        "- **Category.** Since we are working with class labels (spam, non-spam), this is a supervised learning problem.\n",
        "- **Measure Performance.** Predict class labels in the test dataset and count the number of correct predictions to asses the prediction accuracy."
      ]
    },
    {
      "cell_type": "markdown",
      "metadata": {
        "id": "pyD5e00JKGch"
      },
      "source": [
        "## Answer:\n",
        "\n",
        "**1. Stock Prediction:**\n",
        "\n",
        "**Goal:** The goal is to forecast the future prices of stocks based on historical data. This can help investors make informed decisions about buying, holding, or selling stocks.\n",
        "\n",
        "**Dataset:** The dataset would typically include historical stock prices, trading volumes, and other financial indicators. It might also incorporate additional features such as economic indicators, company financial reports, and news sentiment. Each data point usually includes attributes like date, open price, close price, high price, low price, volume, etc.\n",
        "\n",
        "**Category:** This is a supervised learning problem if you're predicting specific future stock prices or price movements based on labeled historical data. If you’re clustering stocks into categories based on similar price movements or patterns, it could be unsupervised learning. Reinforcement learning might be used if the model is part of a trading strategy that learns to make trading decisions based on simulated rewards.\n",
        "\n",
        "**Measure Performance:** Performance can be evaluated using metrics like mean squared error (MSE) or mean absolute error (MAE) for continuous predictions. For classification tasks (e.g., predicting whether the stock will go up or down), accuracy, precision, recall, and F1-score can be used. Additionally, financial metrics such as return on investment (ROI) and Sharpe ratio might be relevant to assess the effectiveness of trading strategies derived from the predictions.\n",
        "\n",
        "**2. Drug Design:**\n",
        "\n",
        "**Goal:** The goal is to predict the efficacy and safety of new drug compounds by modeling their interactions with biological targets. This can help in identifying promising candidates for further testing and reducing the number of unsuccessful drugs that reach clinical trials.\n",
        "\n",
        "**Dataset:** The dataset would consist of chemical properties of drug compounds, biological activity data (e.g., binding affinity, toxicity), and possibly information about the biological targets (e.g., protein structures). Each data point would include features representing the compound's structure or properties and labels indicating its activity or efficacy.\n",
        "\n",
        "**Category:** This is a supervised learning problem because it involves predicting outcomes (such as activity or toxicity) based on labeled data. Alternatively, it can also involve unsupervised learning if you're clustering compounds into groups based on similarity without predefined labels.\n",
        "\n",
        "**Measure Performance** Evaluate the model's performance by comparing its predictions against known data. For classification tasks, you might use metrics like accuracy, precision, recall, or F1 score. For regression tasks, you could use mean squared error (MSE) or mean absolute error (MAE) to assess how close the predictions are to actual values.\n",
        "\n",
        "**3. Credit Card Fraud:**\n",
        "\n",
        "**Goal:** The goal is to identify fraudulent transactions among credit card transactions to prevent financial loss and protect cardholders.\n",
        "\n",
        "**Dataset:** The dataset would include transaction records with features such as transaction amount, transaction time, merchant details, and cardholder information. Each record would be labeled as fraudulent or non-fraudulent. The dataset might be imbalanced, with a much smaller proportion of fraudulent transactions compared to non-fraudulent ones.\n",
        "\n",
        "**Category:** This is a supervised learning problem since it involves predicting a categorical outcome (fraudulent or non-fraudulent) based on labeled data.\n",
        "\n",
        "**Measure Performance:** Evaluate the model by examining how well it identifies fraudulent transactions. Metrics like precision, recall, F1 score, and the area under the ROC curve (AUC-ROC) are useful because they handle class imbalance better than simple accuracy. Precision measures the proportion of correctly identified frauds among all identified frauds, while recall measures the proportion of actual frauds that were identified."
      ]
    },
    {
      "cell_type": "markdown",
      "metadata": {
        "id": "Jc6V4t-dKGc1"
      },
      "source": [
        "## E 2)\n",
        "\n",
        "If you think about the task of spam classification more thoroughly, do you think that the classification accuracy or misclassification error is a good error metric of how good an email classifier is? What are potential pitfalls? (Hint: think about false positives [non-spam email classified as spam] and false negatives [spam email classified as non-spam])."
      ]
    },
    {
      "cell_type": "markdown",
      "metadata": {
        "id": "KLo0lrFsKGc2"
      },
      "source": [
        "## Answer:\n",
        "\n",
        "Using classification accuracy or misclassification error as the sole metric may not fully capture the performance of the classifier due to potential pitfalls:\n",
        "\n",
        "**Class Imbalance:** If the dataset has a significant imbalance between spam and non-spam emails (e.g., 90% non-spam and 10% spam), a classifier could achieve high accuracy by simply predicting all emails as non-spam. This would result in a high accuracy rate but fail to identify any spam emails, which is a critical issue.\n",
        "\n",
        "**False Positives:** A false positive occurs when a non-spam email is incorrectly classified as spam. This could lead to important emails being wrongly placed in the spam folder, causing inconvenience to users who might miss important messages.\n",
        "\n",
        "**False Negatives:** A false negative occurs when a spam email is incorrectly classified as non-spam. This is problematic as it allows unwanted spam to reach the user's inbox, potentially leading to security risks and reduced user satisfaction.\n",
        "\n",
        "**Better Metrics to Consider:**\n",
        "\n",
        "**Precision:** Measures the proportion of true spam emails among those classified as spam. High precision means that most emails classified as spam are indeed spam, which is important to minimize false positives.\n",
        "\n",
        "**Recall:** Measures the proportion of actual spam emails that are correctly classified. High recall means that most spam emails are identified, which is important to minimize false negatives.\n",
        "\n",
        "**F1 Score:** The harmonic mean of precision and recall, providing a balance between the two metrics. It is particularly useful when dealing with imbalanced datasets.\n",
        "\n",
        "**Area Under the ROC Curve (AUC-ROC):** Evaluates the classifier's ability to distinguish between spam and non-spam across various threshold settings, providing a comprehensive view of performance.\n",
        "\n",
        "**In summary,** while accuracy and misclassification error provide a general sense of performance, precision, recall, and the F1 score offer more insights into the classifier's effectiveness, especially in handling class imbalances and minimizing both false positives and false negatives."
      ]
    },
    {
      "cell_type": "markdown",
      "metadata": {
        "id": "AkEo2xMlKGc3"
      },
      "source": [
        "## E 3)\n",
        "\n",
        "In the exercise example of E 1), email spam classification was listed as an example of a supervised machine learning problem.\n",
        "List 2 examples of unsupervised learning tasks that would fall into the category of clustering. In one or more sentences, explain why you would describe these examples as clustering tasks and not supervised learning tasks. Select examples that are not already that are in the \"Lecture note list\" from E 1)."
      ]
    },
    {
      "cell_type": "markdown",
      "metadata": {
        "id": "n2w235ExKGc3"
      },
      "source": [
        "## Answer:\n",
        "\n",
        "**1. Customer Segmentation:**\n",
        "\n",
        "**Description:** Customer segmentation involves grouping customers based on their purchasing behavior, demographic information, or other attributes. The goal is to identify distinct groups of customers with similar characteristics or behaviors.\n",
        "\n",
        "**Reason for Clustering:** This task is unsupervised because we do not have predefined labels or categories for the customer groups. Instead, we use clustering algorithms to discover inherent groupings within the data based on similarity measures. The objective is to find meaningful patterns and group customers into clusters without any prior knowledge of the number of segments or their characteristics.\n",
        "\n",
        "**2. Document Clustering:**\n",
        "\n",
        "**Description:** Document clustering involves grouping a set of documents into clusters where each cluster contains documents that are similar to each other. This can be useful for organizing large collections of text documents into thematic groups.\n",
        "\n",
        "**Reason for Clustering:** This task is unsupervised because there are no pre-assigned categories or labels for the documents. Clustering algorithms analyze the content of the documents to find patterns and group similar documents together based on their textual similarity. The clusters are formed based on the similarity of the content rather than predefined categories.\n",
        "\n",
        "In both cases, the goal is to explore and discover natural groupings within the data without relying on predefined labels, which is why these tasks are considered clustering problems rather than supervised learning problems."
      ]
    },
    {
      "cell_type": "markdown",
      "metadata": {
        "id": "QP-L4xtlKGc4"
      },
      "source": [
        "## E 4)\n",
        "\n",
        "In the *k*-nearest neighbor (*k*-NN) algorithm, what computation happens at training and what computation happens at test time? Explain your answer in 1-2 sentences."
      ]
    },
    {
      "cell_type": "markdown",
      "metadata": {
        "id": "GeT6flX3KGc6"
      },
      "source": [
        "## Answer:\n",
        "\n",
        "In the k-nearest neighbor (k-NN) algorithm:\n",
        "\n",
        "**Training Time:** The algorithm stores the training data and associated labels, which involves simply memorizing the dataset without any computation for model parameters.\n",
        "\n",
        "**Test Time:** For each test sample, the algorithm computes the distances between the test sample and all training samples to identify the k nearest neighbors, and then classifies the test sample based on the majority label among these neighbors.\n",
        "\n",
        "This approach results in minimal computation during training but can be computationally intensive during testing due to the distance calculations required."
      ]
    },
    {
      "cell_type": "markdown",
      "metadata": {
        "id": "XYYpD4YsKGc6"
      },
      "source": [
        "## E 5)\n",
        "\n",
        "Does (*k*-NN) work better or worse if we add more information by adding more feature variables (assuming the number of training examples is fixed)? Explain your reasoning."
      ]
    },
    {
      "cell_type": "markdown",
      "metadata": {
        "id": "_GoRVJi-KGc7"
      },
      "source": [
        "## Answer:\n",
        "\n",
        "In the k-nearest neighbor (k-NN) algorithm, adding more feature variables can have mixed effects:\n",
        "\n",
        "**Better Performance:** If the additional features are relevant and provide useful information about the data, they can help k-NN make more accurate classifications by offering a richer representation of the data.\n",
        "\n",
        "**Worse Performance:** If the additional features are noisy or irrelevant, they can lead to poorer performance. This is because k-NN relies on distance metrics in the feature space, and irrelevant features can distort these distances, making it harder to identify true nearest neighbors. Additionally, more features can increase the risk of the \"curse of dimensionality,\" where the distance between points becomes less meaningful as the number of dimensions increases.\n",
        "\n",
        "Overall, the impact of adding more features depends on their relevance and the ability of the model to handle high-dimensional spaces."
      ]
    },
    {
      "cell_type": "markdown",
      "metadata": {
        "id": "Ym5YGQz3KGc7"
      },
      "source": [
        "## E 6)\n",
        "\n",
        "If your dataset contains several noisy examples (or outliers), is it better to increase or decrease *k*? Explain your reasoning."
      ]
    },
    {
      "cell_type": "markdown",
      "metadata": {
        "id": "XGqL8oZAKGc8"
      },
      "source": [
        "## Answer:\n",
        "\n",
        "**It is generally better to increase k:**\n",
        "\n",
        "**Increasing k:** By increasing the value of k, the k-nearest neighbor algorithm considers more neighbors when making a prediction. This can help to smooth out the impact of noisy examples or outliers, as their influence is diluted by the majority of more representative neighbors. A larger k can lead to more robust and stable predictions by averaging out the noise and reducing the sensitivity to individual noisy data points.\n",
        "\n",
        "**Decreasing k:** A smaller k makes the algorithm more sensitive to noise and outliers because it relies more on the immediate, potentially noisy neighbors. With a smaller k, outliers have a greater influence on the prediction, which can lead to less accurate results.\n",
        "\n",
        "**In summary,** increasing k can mitigate the effects of noisy examples and outliers by making predictions based on a broader set of neighbors."
      ]
    },
    {
      "cell_type": "markdown",
      "metadata": {
        "id": "ExN41e7iKGc8"
      },
      "source": [
        "## E 7)\n",
        "\n",
        "Implement the Kronecker Delta function in Python,\n",
        "\n",
        "$$\n",
        "\\delta(i, j) =\n",
        "    \\begin{cases}\n",
        "            1, &         \\text{if } i=j,\\\\\n",
        "            0, &         \\text{if } i\\neq j.\n",
        "    \\end{cases}\n",
        "$$\n",
        "\n",
        "The `assert` statements are here to help you: They will raise an `AssertionError` if your function returns unexpected results based on the test cases."
      ]
    },
    {
      "cell_type": "code",
      "execution_count": 12,
      "metadata": {
        "id": "SUsB3PYNKGc9"
      },
      "outputs": [],
      "source": [
        "# This is an example implementing a Dirac Delta Function\n",
        "\n",
        "def dirac_delta(x):\n",
        "    if x > 0.5:\n",
        "        return 1\n",
        "    else:\n",
        "        return 0\n",
        "\n",
        "assert dirac_delta(1) == 1\n",
        "assert dirac_delta(2) == 1\n",
        "assert dirac_delta(-1) == 0\n",
        "assert dirac_delta(0.5) == 0"
      ]
    },
    {
      "cell_type": "code",
      "execution_count": 13,
      "metadata": {
        "id": "Bu9uwCldKGc-"
      },
      "outputs": [],
      "source": [
        "def kronecker_delta(i, j):\n",
        "    return 1 if i == j else 0\n",
        "\n",
        "\n",
        "\n",
        "# DO NOT EDIT THE LINES BELOW\n",
        "assert kronecker_delta(1, 0) == 0\n",
        "assert kronecker_delta(2, 2) == 1\n",
        "assert kronecker_delta(-1, 1) == 0\n",
        "assert kronecker_delta(0.5, 0.1) == 0"
      ]
    },
    {
      "cell_type": "markdown",
      "metadata": {
        "id": "XvVPXTiPKGc-"
      },
      "source": [
        "## E 8)\n",
        "\n",
        "Suppose `y_true` is a list that contains true class labels, and `y_pred` is an array with predicted class labels from some machine learning task. Calculate the prediction accuracy in percent (without using any external libraries)."
      ]
    },
    {
      "cell_type": "code",
      "execution_count": 15,
      "metadata": {
        "id": "S7RCgL7KKGc_",
        "outputId": "cc041dab-9fd1-4438-c0bc-e982f73a855e"
      },
      "outputs": [
        {
          "name": "stdout",
          "output_type": "stream",
          "text": [
            "Accuracy: 80.00%\n"
          ]
        }
      ],
      "source": [
        "y_true = [1, 2, 0, 1, 1, 2, 3, 1, 2, 1]\n",
        "y_pred = [1, 2, 1, 1, 1, 0, 3, 1, 2, 1]\n",
        "\n",
        "\n",
        "# Calculate the number of correct predictions\n",
        "correct_predictions = sum([1 for true, pred in zip(y_true, y_pred) if true == pred])\n",
        "\n",
        "# Calculate accuracy\n",
        "accuracy = (correct_predictions / len(y_true)) * 100\n",
        "\n",
        "print('Accuracy: %.2f%%' % accuracy)"
      ]
    },
    {
      "cell_type": "markdown",
      "metadata": {
        "id": "Rqhhn-zgKGdA"
      },
      "source": [
        "## E 9)\n",
        "\n",
        "Import the NumPy library to create a 3x3 matrix with values ranging 0-8. The expected output should look as follows:\n",
        "\n",
        "```python\n",
        "array([[0, 1, 2],\n",
        "       [3, 4, 5],\n",
        "       [6, 7, 8]])\n",
        "```"
      ]
    },
    {
      "cell_type": "code",
      "execution_count": 22,
      "metadata": {
        "id": "pcqWhC8xKGdB",
        "outputId": "43e00db4-6ddb-4799-9283-f21815785d95"
      },
      "outputs": [
        {
          "data": {
            "text/plain": [
              "array([[0, 1, 2],\n",
              "       [3, 4, 5],\n",
              "       [6, 7, 8]])"
            ]
          },
          "execution_count": 22,
          "metadata": {},
          "output_type": "execute_result"
        }
      ],
      "source": [
        "import numpy as np\n",
        "\n",
        "matrix = np.arange(9).reshape(3, 3)\n",
        "\n",
        "matrix"
      ]
    },
    {
      "cell_type": "markdown",
      "metadata": {
        "id": "IfuT4FuZKGdC"
      },
      "source": [
        "## E 10)\n",
        "\n",
        "Use create a 2x2 NumPy array with random values drawn from a standard normal distribution using the random seed `123`:\n",
        "\n",
        "If you are using the 123 random seed, the expected result should be:\n",
        "\n",
        "```python\n",
        "array([[-1.0856306 ,  0.99734545],\n",
        "       [ 0.2829785 , -1.50629471]])\n",
        "```"
      ]
    },
    {
      "cell_type": "code",
      "execution_count": 21,
      "metadata": {
        "id": "RGxbt9VzKGdD",
        "outputId": "b1d75bb6-b13f-47db-e757-ae4e2e6466a1"
      },
      "outputs": [
        {
          "data": {
            "text/plain": [
              "array([[-1.0856306 ,  0.99734545],\n",
              "       [ 0.2829785 , -1.50629471]])"
            ]
          },
          "execution_count": 21,
          "metadata": {},
          "output_type": "execute_result"
        }
      ],
      "source": [
        "import numpy as np\n",
        "\n",
        "# Set the random seed\n",
        "np.random.seed(123)\n",
        "\n",
        "# Create a 2x2 array with random values from a standard normal distribution\n",
        "random_array = np.random.randn(2, 2)\n",
        "\n",
        "random_array"
      ]
    },
    {
      "cell_type": "markdown",
      "metadata": {
        "id": "NV0bDsqdKGdE"
      },
      "source": [
        "## E 11)\n",
        "\n",
        "Given an array `A`,\n",
        "\n",
        "```python\n",
        "array([[ 1,  2,  3,  4],\n",
        "       [ 5,  6,  7,  8],\n",
        "       [ 9, 10, 11, 12],\n",
        "       [13, 14, 15, 16]])\n",
        "```\n",
        "\n",
        "use the NumPy slicing syntax to only select the 2x2 center of this matrix, i.e., the subarray\n",
        "\n",
        "```python\n",
        "array([[ 6,  7],\n",
        "       [10, 11]]).\n",
        "```"
      ]
    },
    {
      "cell_type": "code",
      "execution_count": 20,
      "metadata": {
        "id": "ursOyP06KGdF",
        "outputId": "90584877-6c62-4a89-ee3d-08236e62b15e"
      },
      "outputs": [
        {
          "data": {
            "text/plain": [
              "array([[ 6,  7],\n",
              "       [10, 11]])"
            ]
          },
          "execution_count": 20,
          "metadata": {},
          "output_type": "execute_result"
        }
      ],
      "source": [
        "import numpy as np\n",
        "A = np.array([\n",
        "    [1, 2, 3, 4],\n",
        "    [5, 6, 7, 8],\n",
        "    [9, 10, 11, 12],\n",
        "    [13, 14, 15, 16]])\n",
        "\n",
        "\n",
        "# Select the 2x2 center of the matrix\n",
        "center_subarray = A[1:3, 1:3]\n",
        "\n",
        "center_subarray\n"
      ]
    },
    {
      "cell_type": "markdown",
      "metadata": {
        "id": "hqE6cflBKGdG"
      },
      "source": [
        "## E 12)\n",
        "\n",
        "Given the array `A` below, find the most frequent integer in that array:"
      ]
    },
    {
      "cell_type": "code",
      "execution_count": 23,
      "metadata": {
        "id": "QJ-pnjk2KGdH",
        "outputId": "c135c9dc-1d34-4bad-9799-99becaa5af79"
      },
      "outputs": [
        {
          "name": "stdout",
          "output_type": "stream",
          "text": [
            "Most frequent integer: 3\n"
          ]
        }
      ],
      "source": [
        "import numpy as np\n",
        "rng = np.random.RandomState(123)\n",
        "A = rng.randint(0, 10, 200)\n",
        "\n",
        "# Find the most frequent integer in the array\n",
        "most_frequent = np.bincount(A).argmax()\n",
        "\n",
        "print(\"Most frequent integer:\", most_frequent)"
      ]
    },
    {
      "cell_type": "markdown",
      "metadata": {
        "id": "6iYHpe6_KGdH"
      },
      "source": [
        "## E 13)"
      ]
    },
    {
      "cell_type": "markdown",
      "metadata": {
        "id": "TJ7BNwd8KGdI"
      },
      "source": [
        "Complete the line of code below to read in the `'train_data.txt'` dataset, which consists of 3 columns: 2 feature columns and 1 class label column. The columns are separated via white spaces. If your implementation is correct, the last line should show a data array in below the code cell that has the following contents:\n",
        "\n",
        "```\t     \n",
        "       x1\t x2   \ty\n",
        "0\t-3.84\t-4.40\t0\n",
        "1\t 16.36\t6.54\t1\n",
        "2\t-2.73\t-5.13\t0\n",
        "3\t 4.83\t 7.22\t1\n",
        "4\t 3.66\t-5.34\t0\n",
        "```"
      ]
    },
    {
      "cell_type": "code",
      "execution_count": 25,
      "metadata": {
        "id": "AXD0jrSCKGdJ",
        "outputId": "f32cfce9-4be1-43fa-c0f2-dd0d8cd513c8"
      },
      "outputs": [
        {
          "data": {
            "text/html": [
              "<div>\n",
              "<style scoped>\n",
              "    .dataframe tbody tr th:only-of-type {\n",
              "        vertical-align: middle;\n",
              "    }\n",
              "\n",
              "    .dataframe tbody tr th {\n",
              "        vertical-align: top;\n",
              "    }\n",
              "\n",
              "    .dataframe thead th {\n",
              "        text-align: right;\n",
              "    }\n",
              "</style>\n",
              "<table border=\"1\" class=\"dataframe\">\n",
              "  <thead>\n",
              "    <tr style=\"text-align: right;\">\n",
              "      <th></th>\n",
              "      <th>x1</th>\n",
              "      <th>x2</th>\n",
              "      <th>y</th>\n",
              "    </tr>\n",
              "  </thead>\n",
              "  <tbody>\n",
              "    <tr>\n",
              "      <th>0</th>\n",
              "      <td>x1</td>\n",
              "      <td>x2</td>\n",
              "      <td>y</td>\n",
              "    </tr>\n",
              "    <tr>\n",
              "      <th>1</th>\n",
              "      <td>-3.84</td>\n",
              "      <td>-4.40</td>\n",
              "      <td>0</td>\n",
              "    </tr>\n",
              "    <tr>\n",
              "      <th>2</th>\n",
              "      <td>16.36</td>\n",
              "      <td>6.54</td>\n",
              "      <td>1</td>\n",
              "    </tr>\n",
              "    <tr>\n",
              "      <th>3</th>\n",
              "      <td>-2.73</td>\n",
              "      <td>-5.13</td>\n",
              "      <td>0</td>\n",
              "    </tr>\n",
              "    <tr>\n",
              "      <th>4</th>\n",
              "      <td>4.83</td>\n",
              "      <td>7.22</td>\n",
              "      <td>1</td>\n",
              "    </tr>\n",
              "  </tbody>\n",
              "</table>\n",
              "</div>"
            ],
            "text/plain": [
              "      x1     x2  y\n",
              "0     x1     x2  y\n",
              "1  -3.84  -4.40  0\n",
              "2  16.36   6.54  1\n",
              "3  -2.73  -5.13  0\n",
              "4   4.83   7.22  1"
            ]
          },
          "execution_count": 25,
          "metadata": {},
          "output_type": "execute_result"
        }
      ],
      "source": [
        "import pandas as pd\n",
        "\n",
        "# Read the dataset\n",
        "df_train = pd.read_csv('train_data.txt', sep='\\s+', header=None, names=['x1', 'x2', 'y'])\n",
        "\n",
        "# Display the first few rows of the data to confirm\n",
        "df_train.head()"
      ]
    },
    {
      "cell_type": "markdown",
      "metadata": {
        "id": "1ijiD6_9KGdL"
      },
      "source": [
        "## E 14)\n",
        "\n",
        "Consider the following code below, which plots one the samples from class 0 in a 2D scatterplot using matplotlib:"
      ]
    },
    {
      "cell_type": "code",
      "execution_count": 29,
      "metadata": {
        "id": "EvERm9giKGdM"
      },
      "outputs": [],
      "source": [
        "X_train = df_train[['x1', 'x2']].values\n",
        "y_train = df_train['y'].values"
      ]
    },
    {
      "cell_type": "code",
      "execution_count": 44,
      "metadata": {
        "id": "PP9Dj9L8KGdN",
        "outputId": "8d9fc846-c83f-41f6-8e3e-0a6dfa6318a2"
      },
      "outputs": [
        {
          "data": {
            "image/png": "[encoded data removed]",
            "text/plain": [
              "<Figure size 640x480 with 1 Axes>"
            ]
          },
          "metadata": {},
          "output_type": "display_data"
        }
      ],
      "source": [
        "\n",
        "import matplotlib.pyplot as plt\n",
        "\n",
        "X_train_class_0 = X_train[y_train == 0]\n",
        "plt.scatter(X_train_class_0[:, 0],\n",
        "            X_train_class_0[:, 1],\n",
        "            label='class 0',\n",
        "            color='blue',  # Optional: color for class 0\n",
        "            alpha=0.7)     # Optional: transparency for better visualization\n",
        "\n",
        "\n",
        "plt.xlabel('x1')\n",
        "plt.ylabel('x2')\n",
        "plt.xlim([-20, 20])\n",
        "plt.ylim([-20, 20])\n",
        "plt.legend(loc='upper left')\n",
        "plt.show()"
      ]
    },
    {
      "cell_type": "markdown",
      "metadata": {
        "id": "qbjlloh3KGdO"
      },
      "source": [
        "Now, the following code below is identical to the code in the previous code cell but contains partial code to also include the examples from the second class. Complete the second `plt.scatter` function to also plot the trainign examples from `class 1`."
      ]
    },
    {
      "cell_type": "code",
      "execution_count": 45,
      "metadata": {
        "id": "MO391yFnKGdO",
        "outputId": "19b0e035-798c-4a0e-d619-ef227830b33a"
      },
      "outputs": [
        {
          "name": "stdout",
          "output_type": "stream",
          "text": [
            "First few rows of df_train:\n",
            "     x1    x2  y\n",
            "0 -5.75 -6.83  0\n",
            "1  5.51  3.67  1\n",
            "2  5.11  5.32  1\n",
            "3  0.85 -4.11  0\n",
            "4 -0.50 -0.45  1\n",
            "Column names: Index(['x1', 'x2', 'y'], dtype='object')\n",
            "Data types: x1    float64\n",
            "x2    float64\n",
            "y       int64\n",
            "dtype: object\n",
            "Cleaned column names: Index(['x1', 'x2', 'y'], dtype='object')\n",
            "Class distribution: {0: 100, 1: 100}\n",
            "Number of samples for class 0: 100\n",
            "Number of samples for class 1: 100\n"
          ]
        },
        {
          "data": {
            "image/png": "[encoded data removed]",
            "text/plain": [
              "<Figure size 640x480 with 1 Axes>"
            ]
          },
          "metadata": {},
          "output_type": "display_data"
        }
      ],
      "source": [
        "import pandas as pd\n",
        "import numpy as np\n",
        "import matplotlib.pyplot as plt\n",
        "\n",
        "# Load data from test_data.txt with different delimiters\n",
        "# Adjust delimiter based on the actual format of your file\n",
        "df_train = pd.read_csv('test_data.txt', delimiter=r'\\s+', engine='python')\n",
        "\n",
        "# Display the first few rows of the DataFrame\n",
        "print(\"First few rows of df_train:\")\n",
        "print(df_train.head())\n",
        "\n",
        "# Check column names and data types\n",
        "print(\"Column names:\", df_train.columns)\n",
        "print(\"Data types:\", df_train.dtypes)\n",
        "\n",
        "# Ensure column names are correct and strip any extra spaces\n",
        "df_train.columns = df_train.columns.str.strip()\n",
        "\n",
        "# Verify column names again after stripping spaces\n",
        "print(\"Cleaned column names:\", df_train.columns)\n",
        "\n",
        "# Extract features and labels\n",
        "X_train = df_train[['x1', 'x2']].values\n",
        "y_train = df_train['y'].values\n",
        "\n",
        "# Check unique values in y_train and their counts\n",
        "unique_classes, class_counts = np.unique(y_train, return_counts=True)\n",
        "print(\"Class distribution:\", dict(zip(unique_classes, class_counts)))\n",
        "\n",
        "# Filter samples for class 0 and class 1\n",
        "X_train_class_0 = X_train[y_train == 0]\n",
        "X_train_class_1 = X_train[y_train == 1]\n",
        "\n",
        "# Print the number of samples for each class\n",
        "print(\"Number of samples for class 0:\", len(X_train_class_0))\n",
        "print(\"Number of samples for class 1:\", len(X_train_class_1))\n",
        "\n",
        "# Plot examples from class 0\n",
        "plt.scatter(X_train_class_0[:, 0],\n",
        "            X_train_class_0[:, 1],\n",
        "            label='class 0',\n",
        "            color='blue',  # Optional: color for class 0\n",
        "            alpha=0.7)     # Optional: transparency for better visualization\n",
        "\n",
        "# Plot examples from class 1\n",
        "plt.scatter(X_train_class_1[:, 0],\n",
        "            X_train_class_1[:, 1],\n",
        "            label='class 1',\n",
        "            color='green',  # Optional: color for class 1\n",
        "            alpha=0.7)     # Optional: transparency for better visualization\n",
        "\n",
        "plt.xlabel('x1')\n",
        "plt.ylabel('x2')\n",
        "plt.xlim([-20, 20])\n",
        "plt.ylim([-20, 20])\n",
        "plt.legend(loc='upper left')\n",
        "plt.show()\n"
      ]
    },
    {
      "cell_type": "markdown",
      "metadata": {
        "id": "a0NojVUaKGdQ"
      },
      "source": [
        "## E 15)\n",
        "\n",
        "Consider the we trained a 1-nearest neighbor classifier using scikit-learn on the previous training dataset:"
      ]
    },
    {
      "cell_type": "code",
      "execution_count": 46,
      "metadata": {
        "id": "wNnPQW5aKGdR",
        "outputId": "e807a58b-d027-416e-cc13-a3126c2c1900"
      },
      "outputs": [
        {
          "data": {
            "text/html": [
              "<style>#sk-container-id-1 {\n",
              "  /* Definition of color scheme common for light and dark mode */\n",
              "  --sklearn-color-text: black;\n",
              "  --sklearn-color-line: gray;\n",
              "  /* Definition of color scheme for unfitted estimators */\n",
              "  --sklearn-color-unfitted-level-0: #fff5e6;\n",
              "  --sklearn-color-unfitted-level-1: #f6e4d2;\n",
              "  --sklearn-color-unfitted-level-2: #ffe0b3;\n",
              "  --sklearn-color-unfitted-level-3: chocolate;\n",
              "  /* Definition of color scheme for fitted estimators */\n",
              "  --sklearn-color-fitted-level-0: #f0f8ff;\n",
              "  --sklearn-color-fitted-level-1: #d4ebff;\n",
              "  --sklearn-color-fitted-level-2: #b3dbfd;\n",
              "  --sklearn-color-fitted-level-3: cornflowerblue;\n",
              "\n",
              "  /* Specific color for light theme */\n",
              "  --sklearn-color-text-on-default-background: var(--sg-text-color, var(--theme-code-foreground, var(--jp-content-font-color1, black)));\n",
              "  --sklearn-color-background: var(--sg-background-color, var(--theme-background, var(--jp-layout-color0, white)));\n",
              "  --sklearn-color-border-box: var(--sg-text-color, var(--theme-code-foreground, var(--jp-content-font-color1, black)));\n",
              "  --sklearn-color-icon: #696969;\n",
              "\n",
              "  @media (prefers-color-scheme: dark) {\n",
              "    /* Redefinition of color scheme for dark theme */\n",
              "    --sklearn-color-text-on-default-background: var(--sg-text-color, var(--theme-code-foreground, var(--jp-content-font-color1, white)));\n",
              "    --sklearn-color-background: var(--sg-background-color, var(--theme-background, var(--jp-layout-color0, #111)));\n",
              "    --sklearn-color-border-box: var(--sg-text-color, var(--theme-code-foreground, var(--jp-content-font-color1, white)));\n",
              "    --sklearn-color-icon: #878787;\n",
              "  }\n",
              "}\n",
              "\n",
              "#sk-container-id-1 {\n",
              "  color: var(--sklearn-color-text);\n",
              "}\n",
              "\n",
              "#sk-container-id-1 pre {\n",
              "  padding: 0;\n",
              "}\n",
              "\n",
              "#sk-container-id-1 input.sk-hidden--visually {\n",
              "  border: 0;\n",
              "  clip: rect(1px 1px 1px 1px);\n",
              "  clip: rect(1px, 1px, 1px, 1px);\n",
              "  height: 1px;\n",
              "  margin: -1px;\n",
              "  overflow: hidden;\n",
              "  padding: 0;\n",
              "  position: absolute;\n",
              "  width: 1px;\n",
              "}\n",
              "\n",
              "#sk-container-id-1 div.sk-dashed-wrapped {\n",
              "  border: 1px dashed var(--sklearn-color-line);\n",
              "  margin: 0 0.4em 0.5em 0.4em;\n",
              "  box-sizing: border-box;\n",
              "  padding-bottom: 0.4em;\n",
              "  background-color: var(--sklearn-color-background);\n",
              "}\n",
              "\n",
              "#sk-container-id-1 div.sk-container {\n",
              "  /* jupyter's `normalize.less` sets `[hidden] { display: none; }`\n",
              "     but bootstrap.min.css set `[hidden] { display: none !important; }`\n",
              "     so we also need the `!important` here to be able to override the\n",
              "     default hidden behavior on the sphinx rendered scikit-learn.org.\n",
              "     See: https://github.com/scikit-learn/scikit-learn/issues/21755 */\n",
              "  display: inline-block !important;\n",
              "  position: relative;\n",
              "}\n",
              "\n",
              "#sk-container-id-1 div.sk-text-repr-fallback {\n",
              "  display: none;\n",
              "}\n",
              "\n",
              "div.sk-parallel-item,\n",
              "div.sk-serial,\n",
              "div.sk-item {\n",
              "  /* draw centered vertical line to link estimators */\n",
              "  background-image: linear-gradient(var(--sklearn-color-text-on-default-background), var(--sklearn-color-text-on-default-background));\n",
              "  background-size: 2px 100%;\n",
              "  background-repeat: no-repeat;\n",
              "  background-position: center center;\n",
              "}\n",
              "\n",
              "/* Parallel-specific style estimator block */\n",
              "\n",
              "#sk-container-id-1 div.sk-parallel-item::after {\n",
              "  content: \"\";\n",
              "  width: 100%;\n",
              "  border-bottom: 2px solid var(--sklearn-color-text-on-default-background);\n",
              "  flex-grow: 1;\n",
              "}\n",
              "\n",
              "#sk-container-id-1 div.sk-parallel {\n",
              "  display: flex;\n",
              "  align-items: stretch;\n",
              "  justify-content: center;\n",
              "  background-color: var(--sklearn-color-background);\n",
              "  position: relative;\n",
              "}\n",
              "\n",
              "#sk-container-id-1 div.sk-parallel-item {\n",
              "  display: flex;\n",
              "  flex-direction: column;\n",
              "}\n",
              "\n",
              "#sk-container-id-1 div.sk-parallel-item:first-child::after {\n",
              "  align-self: flex-end;\n",
              "  width: 50%;\n",
              "}\n",
              "\n",
              "#sk-container-id-1 div.sk-parallel-item:last-child::after {\n",
              "  align-self: flex-start;\n",
              "  width: 50%;\n",
              "}\n",
              "\n",
              "#sk-container-id-1 div.sk-parallel-item:only-child::after {\n",
              "  width: 0;\n",
              "}\n",
              "\n",
              "/* Serial-specific style estimator block */\n",
              "\n",
              "#sk-container-id-1 div.sk-serial {\n",
              "  display: flex;\n",
              "  flex-direction: column;\n",
              "  align-items: center;\n",
              "  background-color: var(--sklearn-color-background);\n",
              "  padding-right: 1em;\n",
              "  padding-left: 1em;\n",
              "}\n",
              "\n",
              "\n",
              "/* Toggleable style: style used for estimator/Pipeline/ColumnTransformer box that is\n",
              "clickable and can be expanded/collapsed.\n",
              "- Pipeline and ColumnTransformer use this feature and define the default style\n",
              "- Estimators will overwrite some part of the style using the `sk-estimator` class\n",
              "*/\n",
              "\n",
              "/* Pipeline and ColumnTransformer style (default) */\n",
              "\n",
              "#sk-container-id-1 div.sk-toggleable {\n",
              "  /* Default theme specific background. It is overwritten whether we have a\n",
              "  specific estimator or a Pipeline/ColumnTransformer */\n",
              "  background-color: var(--sklearn-color-background);\n",
              "}\n",
              "\n",
              "/* Toggleable label */\n",
              "#sk-container-id-1 label.sk-toggleable__label {\n",
              "  cursor: pointer;\n",
              "  display: block;\n",
              "  width: 100%;\n",
              "  margin-bottom: 0;\n",
              "  padding: 0.5em;\n",
              "  box-sizing: border-box;\n",
              "  text-align: center;\n",
              "}\n",
              "\n",
              "#sk-container-id-1 label.sk-toggleable__label-arrow:before {\n",
              "  /* Arrow on the left of the label */\n",
              "  content: \"▸\";\n",
              "  float: left;\n",
              "  margin-right: 0.25em;\n",
              "  color: var(--sklearn-color-icon);\n",
              "}\n",
              "\n",
              "#sk-container-id-1 label.sk-toggleable__label-arrow:hover:before {\n",
              "  color: var(--sklearn-color-text);\n",
              "}\n",
              "\n",
              "/* Toggleable content - dropdown */\n",
              "\n",
              "#sk-container-id-1 div.sk-toggleable__content {\n",
              "  max-height: 0;\n",
              "  max-width: 0;\n",
              "  overflow: hidden;\n",
              "  text-align: left;\n",
              "  /* unfitted */\n",
              "  background-color: var(--sklearn-color-unfitted-level-0);\n",
              "}\n",
              "\n",
              "#sk-container-id-1 div.sk-toggleable__content.fitted {\n",
              "  /* fitted */\n",
              "  background-color: var(--sklearn-color-fitted-level-0);\n",
              "}\n",
              "\n",
              "#sk-container-id-1 div.sk-toggleable__content pre {\n",
              "  margin: 0.2em;\n",
              "  border-radius: 0.25em;\n",
              "  color: var(--sklearn-color-text);\n",
              "  /* unfitted */\n",
              "  background-color: var(--sklearn-color-unfitted-level-0);\n",
              "}\n",
              "\n",
              "#sk-container-id-1 div.sk-toggleable__content.fitted pre {\n",
              "  /* unfitted */\n",
              "  background-color: var(--sklearn-color-fitted-level-0);\n",
              "}\n",
              "\n",
              "#sk-container-id-1 input.sk-toggleable__control:checked~div.sk-toggleable__content {\n",
              "  /* Expand drop-down */\n",
              "  max-height: 200px;\n",
              "  max-width: 100%;\n",
              "  overflow: auto;\n",
              "}\n",
              "\n",
              "#sk-container-id-1 input.sk-toggleable__control:checked~label.sk-toggleable__label-arrow:before {\n",
              "  content: \"▾\";\n",
              "}\n",
              "\n",
              "/* Pipeline/ColumnTransformer-specific style */\n",
              "\n",
              "#sk-container-id-1 div.sk-label input.sk-toggleable__control:checked~label.sk-toggleable__label {\n",
              "  color: var(--sklearn-color-text);\n",
              "  background-color: var(--sklearn-color-unfitted-level-2);\n",
              "}\n",
              "\n",
              "#sk-container-id-1 div.sk-label.fitted input.sk-toggleable__control:checked~label.sk-toggleable__label {\n",
              "  background-color: var(--sklearn-color-fitted-level-2);\n",
              "}\n",
              "\n",
              "/* Estimator-specific style */\n",
              "\n",
              "/* Colorize estimator box */\n",
              "#sk-container-id-1 div.sk-estimator input.sk-toggleable__control:checked~label.sk-toggleable__label {\n",
              "  /* unfitted */\n",
              "  background-color: var(--sklearn-color-unfitted-level-2);\n",
              "}\n",
              "\n",
              "#sk-container-id-1 div.sk-estimator.fitted input.sk-toggleable__control:checked~label.sk-toggleable__label {\n",
              "  /* fitted */\n",
              "  background-color: var(--sklearn-color-fitted-level-2);\n",
              "}\n",
              "\n",
              "#sk-container-id-1 div.sk-label label.sk-toggleable__label,\n",
              "#sk-container-id-1 div.sk-label label {\n",
              "  /* The background is the default theme color */\n",
              "  color: var(--sklearn-color-text-on-default-background);\n",
              "}\n",
              "\n",
              "/* On hover, darken the color of the background */\n",
              "#sk-container-id-1 div.sk-label:hover label.sk-toggleable__label {\n",
              "  color: var(--sklearn-color-text);\n",
              "  background-color: var(--sklearn-color-unfitted-level-2);\n",
              "}\n",
              "\n",
              "/* Label box, darken color on hover, fitted */\n",
              "#sk-container-id-1 div.sk-label.fitted:hover label.sk-toggleable__label.fitted {\n",
              "  color: var(--sklearn-color-text);\n",
              "  background-color: var(--sklearn-color-fitted-level-2);\n",
              "}\n",
              "\n",
              "/* Estimator label */\n",
              "\n",
              "#sk-container-id-1 div.sk-label label {\n",
              "  font-family: monospace;\n",
              "  font-weight: bold;\n",
              "  display: inline-block;\n",
              "  line-height: 1.2em;\n",
              "}\n",
              "\n",
              "#sk-container-id-1 div.sk-label-container {\n",
              "  text-align: center;\n",
              "}\n",
              "\n",
              "/* Estimator-specific */\n",
              "#sk-container-id-1 div.sk-estimator {\n",
              "  font-family: monospace;\n",
              "  border: 1px dotted var(--sklearn-color-border-box);\n",
              "  border-radius: 0.25em;\n",
              "  box-sizing: border-box;\n",
              "  margin-bottom: 0.5em;\n",
              "  /* unfitted */\n",
              "  background-color: var(--sklearn-color-unfitted-level-0);\n",
              "}\n",
              "\n",
              "#sk-container-id-1 div.sk-estimator.fitted {\n",
              "  /* fitted */\n",
              "  background-color: var(--sklearn-color-fitted-level-0);\n",
              "}\n",
              "\n",
              "/* on hover */\n",
              "#sk-container-id-1 div.sk-estimator:hover {\n",
              "  /* unfitted */\n",
              "  background-color: var(--sklearn-color-unfitted-level-2);\n",
              "}\n",
              "\n",
              "#sk-container-id-1 div.sk-estimator.fitted:hover {\n",
              "  /* fitted */\n",
              "  background-color: var(--sklearn-color-fitted-level-2);\n",
              "}\n",
              "\n",
              "/* Specification for estimator info (e.g. \"i\" and \"?\") */\n",
              "\n",
              "/* Common style for \"i\" and \"?\" */\n",
              "\n",
              ".sk-estimator-doc-link,\n",
              "a:link.sk-estimator-doc-link,\n",
              "a:visited.sk-estimator-doc-link {\n",
              "  float: right;\n",
              "  font-size: smaller;\n",
              "  line-height: 1em;\n",
              "  font-family: monospace;\n",
              "  background-color: var(--sklearn-color-background);\n",
              "  border-radius: 1em;\n",
              "  height: 1em;\n",
              "  width: 1em;\n",
              "  text-decoration: none !important;\n",
              "  margin-left: 1ex;\n",
              "  /* unfitted */\n",
              "  border: var(--sklearn-color-unfitted-level-1) 1pt solid;\n",
              "  color: var(--sklearn-color-unfitted-level-1);\n",
              "}\n",
              "\n",
              ".sk-estimator-doc-link.fitted,\n",
              "a:link.sk-estimator-doc-link.fitted,\n",
              "a:visited.sk-estimator-doc-link.fitted {\n",
              "  /* fitted */\n",
              "  border: var(--sklearn-color-fitted-level-1) 1pt solid;\n",
              "  color: var(--sklearn-color-fitted-level-1);\n",
              "}\n",
              "\n",
              "/* On hover */\n",
              "div.sk-estimator:hover .sk-estimator-doc-link:hover,\n",
              ".sk-estimator-doc-link:hover,\n",
              "div.sk-label-container:hover .sk-estimator-doc-link:hover,\n",
              ".sk-estimator-doc-link:hover {\n",
              "  /* unfitted */\n",
              "  background-color: var(--sklearn-color-unfitted-level-3);\n",
              "  color: var(--sklearn-color-background);\n",
              "  text-decoration: none;\n",
              "}\n",
              "\n",
              "div.sk-estimator.fitted:hover .sk-estimator-doc-link.fitted:hover,\n",
              ".sk-estimator-doc-link.fitted:hover,\n",
              "div.sk-label-container:hover .sk-estimator-doc-link.fitted:hover,\n",
              ".sk-estimator-doc-link.fitted:hover {\n",
              "  /* fitted */\n",
              "  background-color: var(--sklearn-color-fitted-level-3);\n",
              "  color: var(--sklearn-color-background);\n",
              "  text-decoration: none;\n",
              "}\n",
              "\n",
              "/* Span, style for the box shown on hovering the info icon */\n",
              ".sk-estimator-doc-link span {\n",
              "  display: none;\n",
              "  z-index: 9999;\n",
              "  position: relative;\n",
              "  font-weight: normal;\n",
              "  right: .2ex;\n",
              "  padding: .5ex;\n",
              "  margin: .5ex;\n",
              "  width: min-content;\n",
              "  min-width: 20ex;\n",
              "  max-width: 50ex;\n",
              "  color: var(--sklearn-color-text);\n",
              "  box-shadow: 2pt 2pt 4pt #999;\n",
              "  /* unfitted */\n",
              "  background: var(--sklearn-color-unfitted-level-0);\n",
              "  border: .5pt solid var(--sklearn-color-unfitted-level-3);\n",
              "}\n",
              "\n",
              ".sk-estimator-doc-link.fitted span {\n",
              "  /* fitted */\n",
              "  background: var(--sklearn-color-fitted-level-0);\n",
              "  border: var(--sklearn-color-fitted-level-3);\n",
              "}\n",
              "\n",
              ".sk-estimator-doc-link:hover span {\n",
              "  display: block;\n",
              "}\n",
              "\n",
              "/* \"?\"-specific style due to the `<a>` HTML tag */\n",
              "\n",
              "#sk-container-id-1 a.estimator_doc_link {\n",
              "  float: right;\n",
              "  font-size: 1rem;\n",
              "  line-height: 1em;\n",
              "  font-family: monospace;\n",
              "  background-color: var(--sklearn-color-background);\n",
              "  border-radius: 1rem;\n",
              "  height: 1rem;\n",
              "  width: 1rem;\n",
              "  text-decoration: none;\n",
              "  /* unfitted */\n",
              "  color: var(--sklearn-color-unfitted-level-1);\n",
              "  border: var(--sklearn-color-unfitted-level-1) 1pt solid;\n",
              "}\n",
              "\n",
              "#sk-container-id-1 a.estimator_doc_link.fitted {\n",
              "  /* fitted */\n",
              "  border: var(--sklearn-color-fitted-level-1) 1pt solid;\n",
              "  color: var(--sklearn-color-fitted-level-1);\n",
              "}\n",
              "\n",
              "/* On hover */\n",
              "#sk-container-id-1 a.estimator_doc_link:hover {\n",
              "  /* unfitted */\n",
              "  background-color: var(--sklearn-color-unfitted-level-3);\n",
              "  color: var(--sklearn-color-background);\n",
              "  text-decoration: none;\n",
              "}\n",
              "\n",
              "#sk-container-id-1 a.estimator_doc_link.fitted:hover {\n",
              "  /* fitted */\n",
              "  background-color: var(--sklearn-color-fitted-level-3);\n",
              "}\n",
              "</style><div id=\"sk-container-id-1\" class=\"sk-top-container\"><div class=\"sk-text-repr-fallback\"><pre>KNeighborsClassifier(n_neighbors=1)</pre><b>In a Jupyter environment, please rerun this cell to show the HTML representation or trust the notebook. <br />On GitHub, the HTML representation is unable to render, please try loading this page with nbviewer.org.</b></div><div class=\"sk-container\" hidden><div class=\"sk-item\"><div class=\"sk-estimator fitted sk-toggleable\"><input class=\"sk-toggleable__control sk-hidden--visually\" id=\"sk-estimator-id-1\" type=\"checkbox\" checked><label for=\"sk-estimator-id-1\" class=\"sk-toggleable__label fitted sk-toggleable__label-arrow fitted\">&nbsp;&nbsp;KNeighborsClassifier<a class=\"sk-estimator-doc-link fitted\" rel=\"noreferrer\" target=\"_blank\" href=\"https://scikit-learn.org/1.5/modules/generated/sklearn.neighbors.KNeighborsClassifier.html\">?<span>Documentation for KNeighborsClassifier</span></a><span class=\"sk-estimator-doc-link fitted\">i<span>Fitted</span></span></label><div class=\"sk-toggleable__content fitted\"><pre>KNeighborsClassifier(n_neighbors=1)</pre></div> </div></div></div></div>"
            ],
            "text/plain": [
              "KNeighborsClassifier(n_neighbors=1)"
            ]
          },
          "execution_count": 46,
          "metadata": {},
          "output_type": "execute_result"
        }
      ],
      "source": [
        "from sklearn.neighbors import KNeighborsClassifier\n",
        "\n",
        "knn = KNeighborsClassifier(n_neighbors=1)\n",
        "knn.fit(X_train, y_train)"
      ]
    },
    {
      "cell_type": "code",
      "execution_count": 48,
      "metadata": {
        "id": "scen8zBqKGdt",
        "outputId": "477a63fd-5941-42f7-c82b-f1760e3215e5"
      },
      "outputs": [
        {
          "data": {
            "text/plain": [
              "<Axes: >"
            ]
          },
          "execution_count": 48,
          "metadata": {},
          "output_type": "execute_result"
        },
        {
          "data": {
            "image/png": "[encoded data removed]",
            "text/plain": [
              "<Figure size 640x480 with 1 Axes>"
            ]
          },
          "metadata": {},
          "output_type": "display_data"
        }
      ],
      "source": [
        "from mlxtend.plotting import plot_decision_regions\n",
        "\n",
        "plot_decision_regions(X_train, y_train, knn)"
      ]
    },
    {
      "cell_type": "markdown",
      "metadata": {
        "id": "2ek5uzgRKGdu"
      },
      "source": [
        "Compute the misclassification error of the 1-NN classifier on the training set:"
      ]
    },
    {
      "cell_type": "code",
      "execution_count": 50,
      "metadata": {
        "id": "cYd3ur-lKGdu"
      },
      "outputs": [
        {
          "name": "stdout",
          "output_type": "stream",
          "text": [
            "Misclassification Error: 0.0000\n"
          ]
        }
      ],
      "source": [
        "from sklearn.metrics import accuracy_score\n",
        "# Predict the labels on the training set\n",
        "y_pred = knn.predict(X_train)\n",
        "accuracy = accuracy_score(y_train, y_pred)\n",
        "misclassification_error = 1 - accuracy\n",
        "\n",
        "print(f\"Misclassification Error: {misclassification_error:.4f}\")"
      ]
    },
    {
      "cell_type": "markdown",
      "metadata": {
        "id": "wiBWhGiKKGdv"
      },
      "source": [
        "## E 16)"
      ]
    },
    {
      "cell_type": "markdown",
      "metadata": {
        "id": "N5KLO632KGdv"
      },
      "source": [
        "Use the code from E 15) to\n",
        "\n",
        "- also visualize the decision boundaries of *k*-nearest neighbor classifiers with k=3, k=5, k=7, k=9\n",
        "- compute the prediction error on the training set for the *k*-nearest neighbor classifiers with k=3, k=5, k=7, k=9"
      ]
    },
    {
      "cell_type": "code",
      "execution_count": 51,
      "metadata": {
        "id": "sNcrY8qIKGdv"
      },
      "outputs": [
        {
          "data": {
            "image/png": "[encoded data removed]",
            "text/plain": [
              "<Figure size 1400x1200 with 4 Axes>"
            ]
          },
          "metadata": {},
          "output_type": "display_data"
        },
        {
          "name": "stdout",
          "output_type": "stream",
          "text": [
            "Misclassification Error for k=3: 0.0400\n",
            "Misclassification Error for k=5: 0.0400\n",
            "Misclassification Error for k=7: 0.0400\n",
            "Misclassification Error for k=9: 0.0400\n"
          ]
        }
      ],
      "source": [
        "import numpy as np\n",
        "import matplotlib.pyplot as plt\n",
        "from sklearn.neighbors import KNeighborsClassifier\n",
        "from sklearn.metrics import accuracy_score\n",
        "from mlxtend.plotting import plot_decision_regions\n",
        "\n",
        "# Define the k values to be used\n",
        "k_values = [3, 5, 7, 9]\n",
        "\n",
        "# Create a figure to hold the plots\n",
        "fig, axes = plt.subplots(2, 2, figsize=(14, 12))\n",
        "\n",
        "# Flatten the axes array for easy iteration\n",
        "axes = axes.ravel()\n",
        "\n",
        "# Store errors for each k value\n",
        "errors = {}\n",
        "\n",
        "for i, k in enumerate(k_values):\n",
        "    # Train the k-NN classifier\n",
        "    knn = KNeighborsClassifier(n_neighbors=k)\n",
        "    knn.fit(X_train, y_train)\n",
        "\n",
        "    # Plot decision boundaries\n",
        "    plot_decision_regions(X_train, y_train, clf=knn, ax=axes[i])\n",
        "    axes[i].set_title(f'k-NN Classifier (k={k})')\n",
        "    axes[i].set_xlabel('x1')\n",
        "    axes[i].set_ylabel('x2')\n",
        "    axes[i].legend(loc='upper left')\n",
        "\n",
        "    # Compute prediction error\n",
        "    y_pred = knn.predict(X_train)\n",
        "    accuracy = accuracy_score(y_train, y_pred)\n",
        "    misclassification_error = 1 - accuracy\n",
        "    errors[k] = misclassification_error\n",
        "\n",
        "# Show all plots\n",
        "plt.tight_layout()\n",
        "plt.show()\n",
        "\n",
        "# Print prediction errors for each k\n",
        "for k, error in errors.items():\n",
        "    print(f\"Misclassification Error for k={k}: {error:.4f}\")\n"
      ]
    },
    {
      "cell_type": "markdown",
      "metadata": {
        "id": "ll8sL9ZfKGdx"
      },
      "source": [
        "## E 17)"
      ]
    },
    {
      "cell_type": "markdown",
      "metadata": {
        "id": "GGpNfEzlKGdx"
      },
      "source": [
        "Using the same approach you used in E 13), now load the `test_data.txt` file into a pandas array."
      ]
    },
    {
      "cell_type": "code",
      "execution_count": 52,
      "metadata": {
        "id": "vGLHzZGXKGdy"
      },
      "outputs": [
        {
          "data": {
            "text/html": [
              "<div>\n",
              "<style scoped>\n",
              "    .dataframe tbody tr th:only-of-type {\n",
              "        vertical-align: middle;\n",
              "    }\n",
              "\n",
              "    .dataframe tbody tr th {\n",
              "        vertical-align: top;\n",
              "    }\n",
              "\n",
              "    .dataframe thead th {\n",
              "        text-align: right;\n",
              "    }\n",
              "</style>\n",
              "<table border=\"1\" class=\"dataframe\">\n",
              "  <thead>\n",
              "    <tr style=\"text-align: right;\">\n",
              "      <th></th>\n",
              "      <th>x1</th>\n",
              "      <th>x2</th>\n",
              "      <th>y</th>\n",
              "    </tr>\n",
              "  </thead>\n",
              "  <tbody>\n",
              "    <tr>\n",
              "      <th>0</th>\n",
              "      <td>x1</td>\n",
              "      <td>x2</td>\n",
              "      <td>y</td>\n",
              "    </tr>\n",
              "    <tr>\n",
              "      <th>1</th>\n",
              "      <td>-5.75</td>\n",
              "      <td>-6.83</td>\n",
              "      <td>0</td>\n",
              "    </tr>\n",
              "    <tr>\n",
              "      <th>2</th>\n",
              "      <td>5.51</td>\n",
              "      <td>3.67</td>\n",
              "      <td>1</td>\n",
              "    </tr>\n",
              "    <tr>\n",
              "      <th>3</th>\n",
              "      <td>5.11</td>\n",
              "      <td>5.32</td>\n",
              "      <td>1</td>\n",
              "    </tr>\n",
              "    <tr>\n",
              "      <th>4</th>\n",
              "      <td>0.85</td>\n",
              "      <td>-4.11</td>\n",
              "      <td>0</td>\n",
              "    </tr>\n",
              "  </tbody>\n",
              "</table>\n",
              "</div>"
            ],
            "text/plain": [
              "      x1     x2  y\n",
              "0     x1     x2  y\n",
              "1  -5.75  -6.83  0\n",
              "2   5.51   3.67  1\n",
              "3   5.11   5.32  1\n",
              "4   0.85  -4.11  0"
            ]
          },
          "execution_count": 52,
          "metadata": {},
          "output_type": "execute_result"
        }
      ],
      "source": [
        "import pandas as pd\n",
        "\n",
        "# Read the dataset\n",
        "df_test = pd.read_csv('test_data.txt', sep='\\s+', header=None, names=['x1', 'x2', 'y'])\n",
        "\n",
        "# Display the first few rows of the data to confirm\n",
        "df_test.head()"
      ]
    },
    {
      "cell_type": "markdown",
      "metadata": {
        "id": "s4DCdpBpKGdy"
      },
      "source": [
        "Assign the features to `X_test` and the class labels to `y_test` (similar to E 13):"
      ]
    },
    {
      "cell_type": "code",
      "execution_count": 53,
      "metadata": {
        "id": "6I-j8iFGKGdy"
      },
      "outputs": [],
      "source": [
        "X_test = df_test[['x1', 'x2']].values\n",
        "y_test = df_test['y'].values"
      ]
    },
    {
      "cell_type": "markdown",
      "metadata": {
        "id": "XU9HdYOEKGdz"
      },
      "source": [
        "## E 18)"
      ]
    },
    {
      "cell_type": "markdown",
      "metadata": {
        "id": "jGj395qGKGdz"
      },
      "source": [
        "Use the `train_test_split` function from scikit-learn to divide the training dataset further into a training subset and a validation set. The validation set should be 30% of the training dataset size, and the training subset should be 70% of the training dataset size.\n",
        "\n",
        "For you reference, the `train_test_split` function is documented at http://scikit-learn.org/stable/modules/generated/sklearn.model_selection.train_test_split.html."
      ]
    },
    {
      "cell_type": "code",
      "execution_count": 55,
      "metadata": {
        "id": "2AlyAMrPKGd0"
      },
      "outputs": [],
      "source": [
        "from sklearn.model_selection import train_test_split\n",
        "\n",
        "# Split the dataset into training subset and validation set\n",
        "X_train_sub, X_val, y_train_sub, y_val = train_test_split(\n",
        "    X_train,  # Features for training\n",
        "    y_train,  # Labels for training\n",
        "    test_size=0.30,  # 30% for validation\n",
        "    random_state=123,  # For reproducibility\n",
        "    stratify=y_train  # Maintain class distribution\n",
        ")"
      ]
    },
    {
      "cell_type": "markdown",
      "metadata": {
        "id": "7GpE2SWTKGd0"
      },
      "source": [
        "## E 19)"
      ]
    },
    {
      "cell_type": "markdown",
      "metadata": {
        "id": "lRdZ9REjKGd0"
      },
      "source": [
        "Write a for loop to evaluate different *k* nn models with k=1 to k=14. In particular, fit the `KNeighborsClassifier` on the training subset, then evaluate it on the training subset, validation subset, and test subset. Report the respective classification error or accuracy."
      ]
    },
    {
      "cell_type": "code",
      "execution_count": 60,
      "metadata": {
        "id": "HU-E81mSKGd1"
      },
      "outputs": [
        {
          "name": "stdout",
          "output_type": "stream",
          "text": [
            "k=1\n",
            "  Training error: 0.0000\n",
            "  Validation error: 0.0667\n",
            "  Test error: 0.0200\n",
            "---\n",
            "k=2\n",
            "  Training error: 0.0357\n",
            "  Validation error: 0.0833\n",
            "  Test error: 0.0500\n",
            "---\n",
            "k=3\n",
            "  Training error: 0.0357\n",
            "  Validation error: 0.0500\n",
            "  Test error: 0.0400\n",
            "---\n",
            "k=4\n",
            "  Training error: 0.0286\n",
            "  Validation error: 0.0667\n",
            "  Test error: 0.0400\n",
            "---\n",
            "k=5\n",
            "  Training error: 0.0286\n",
            "  Validation error: 0.0667\n",
            "  Test error: 0.0400\n",
            "---\n",
            "k=6\n",
            "  Training error: 0.0286\n",
            "  Validation error: 0.0667\n",
            "  Test error: 0.0400\n",
            "---\n",
            "k=7\n",
            "  Training error: 0.0286\n",
            "  Validation error: 0.0667\n",
            "  Test error: 0.0400\n",
            "---\n",
            "k=8\n",
            "  Training error: 0.0286\n",
            "  Validation error: 0.0667\n",
            "  Test error: 0.0400\n",
            "---\n",
            "k=9\n",
            "  Training error: 0.0286\n",
            "  Validation error: 0.0667\n",
            "  Test error: 0.0400\n",
            "---\n",
            "k=10\n",
            "  Training error: 0.0286\n",
            "  Validation error: 0.0667\n",
            "  Test error: 0.0400\n",
            "---\n",
            "k=11\n",
            "  Training error: 0.0286\n",
            "  Validation error: 0.0667\n",
            "  Test error: 0.0400\n",
            "---\n",
            "k=12\n",
            "  Training error: 0.0286\n",
            "  Validation error: 0.0667\n",
            "  Test error: 0.0400\n",
            "---\n",
            "k=13\n",
            "  Training error: 0.0286\n",
            "  Validation error: 0.0667\n",
            "  Test error: 0.0400\n",
            "---\n",
            "k=14\n",
            "  Training error: 0.0286\n",
            "  Validation error: 0.0667\n",
            "  Test error: 0.0400\n",
            "---\n"
          ]
        },
        {
          "data": {
            "image/png": "[encoded data removed]",
            "text/plain": [
              "<Figure size 1200x600 with 1 Axes>"
            ]
          },
          "metadata": {},
          "output_type": "display_data"
        }
      ],
      "source": [
        "import pandas as pd\n",
        "from sklearn.model_selection import train_test_split\n",
        "from sklearn.neighbors import KNeighborsClassifier\n",
        "from sklearn.metrics import accuracy_score\n",
        "\n",
        "# Read the dataset\n",
        "df_test = pd.read_csv('test_data.txt', sep='\\s+', header=None, names=['x1', 'x2', 'y'])\n",
        "\n",
        "# Ensure the columns are of correct type\n",
        "df_test['x1'] = pd.to_numeric(df_test['x1'], errors='coerce')\n",
        "df_test['x2'] = pd.to_numeric(df_test['x2'], errors='coerce')\n",
        "df_test['y'] = pd.to_numeric(df_test['y'], errors='coerce')\n",
        "\n",
        "# Drop rows with any NaN values\n",
        "df_test = df_test.dropna()\n",
        "\n",
        "# Define X and y\n",
        "X_test = df_test[['x1', 'x2']].values\n",
        "y_test = df_test['y'].values\n",
        "\n",
        "# Example of splitting training data\n",
        "X_train_sub, X_val, y_train_sub, y_val = train_test_split(X_train, y_train, test_size=0.3, random_state=123, stratify=y_train)\n",
        "\n",
        "# Initialize dictionaries to store errors and accuracies\n",
        "train_errors = {}\n",
        "val_errors = {}\n",
        "test_errors = {}\n",
        "\n",
        "# Evaluate k-NN classifiers for k in range 1 to 14\n",
        "for k in range(1, 15):\n",
        "    knn = KNeighborsClassifier(n_neighbors=k)\n",
        "    knn.fit(X_train_sub, y_train_sub)\n",
        "    \n",
        "    # Predict and compute accuracy for the training subset\n",
        "    y_train_pred = knn.predict(X_train_sub)\n",
        "    train_accuracy = accuracy_score(y_train_sub, y_train_pred)\n",
        "    train_error = 1 - train_accuracy\n",
        "    train_errors[k] = train_error\n",
        "\n",
        "    # Predict and compute accuracy for the validation subset\n",
        "    y_val_pred = knn.predict(X_val)\n",
        "    val_accuracy = accuracy_score(y_val, y_val_pred)\n",
        "    val_error = 1 - val_accuracy\n",
        "    val_errors[k] = val_error\n",
        "\n",
        "    # Predict and compute accuracy for the test subset\n",
        "    y_test_pred = knn.predict(X_test)\n",
        "    test_accuracy = accuracy_score(y_test, y_test_pred)\n",
        "    test_error = 1 - test_accuracy\n",
        "    test_errors[k] = test_error\n",
        "\n",
        "    # Print the results for the current value of k\n",
        "    print(f'k={k}')\n",
        "    print(f'  Training error: {train_error:.4f}')\n",
        "    print(f'  Validation error: {val_error:.4f}')\n",
        "    print(f'  Test error: {test_error:.4f}')\n",
        "    print('---')\n",
        "\n",
        "# Optionally, you can also plot the errors for a visual representation\n",
        "import matplotlib.pyplot as plt\n",
        "\n",
        "plt.figure(figsize=(12, 6))\n",
        "plt.plot(list(train_errors.keys()), list(train_errors.values()), marker='o', label='Training Error')\n",
        "plt.plot(list(val_errors.keys()), list(val_errors.values()), marker='o', label='Validation Error')\n",
        "plt.plot(list(test_errors.keys()), list(test_errors.values()), marker='o', label='Test Error')\n",
        "plt.xlabel('k')\n",
        "plt.ylabel('Error')\n",
        "plt.title('k-NN Classifier Error vs. k')\n",
        "plt.legend()\n",
        "plt.grid(True)\n",
        "plt.show()\n"
      ]
    },
    {
      "cell_type": "markdown",
      "metadata": {
        "id": "aTvnBDL2KGd1"
      },
      "source": [
        "## E 20)"
      ]
    },
    {
      "cell_type": "markdown",
      "metadata": {
        "id": "tI3jBXjyKGd1"
      },
      "source": [
        "Consider the following code cell, where I implemented *k*-nearest neighbor classification algorithm following the the scikit-learn API"
      ]
    },
    {
      "cell_type": "code",
      "execution_count": 62,
      "metadata": {
        "id": "X1zrVOJlKGd2"
      },
      "outputs": [],
      "source": [
        "import numpy as np\n",
        "\n",
        "\n",
        "class KNNClassifier(object):\n",
        "    def __init__(self, k, dist_fn=None):\n",
        "        self.k = k\n",
        "        if dist_fn is None:\n",
        "            self.dist_fn = self._euclidean_dist\n",
        "\n",
        "    def _euclidean_dist(self, a, b):\n",
        "        dist = 0.\n",
        "        for ele_i, ele_j in zip(a, b):\n",
        "            dist += ((ele_i - ele_j)**2)\n",
        "        dist = dist**0.5\n",
        "        return dist\n",
        "\n",
        "    def _find_nearest(self, x):\n",
        "        dist_idx_pairs = []\n",
        "        for j in range(self.dataset_.shape[0]):\n",
        "            d = self.dist_fn(x, self.dataset_[j])\n",
        "            dist_idx_pairs.append((d, j))\n",
        "\n",
        "        sorted_dist_idx_pairs = sorted(dist_idx_pairs)\n",
        "\n",
        "        return sorted_dist_idx_pairs\n",
        "\n",
        "    def fit(self, X, y):\n",
        "        self.dataset_ = X.copy()\n",
        "        self.labels_ = y.copy()\n",
        "        self.possible_labels_ = np.unique(y)\n",
        "\n",
        "    def predict(self, X):\n",
        "        predictions = np.zeros(X.shape[0], dtype=int)\n",
        "        for i in range(X.shape[0]):\n",
        "            k_nearest = self._find_nearest(X[i])[:self.k]\n",
        "            indices = [entry[1] for entry in k_nearest]\n",
        "            k_labels = self.labels_[indices]\n",
        "            counts = np.bincount(k_labels,\n",
        "                                 minlength=self.possible_labels_.shape[0])\n",
        "            pred_label = np.argmax(counts)\n",
        "            predictions[i] = pred_label\n",
        "        return predictions"
      ]
    },
    {
      "cell_type": "code",
      "execution_count": 63,
      "metadata": {
        "id": "QDiHqznuKGd2"
      },
      "outputs": [
        {
          "name": "stdout",
          "output_type": "stream",
          "text": [
            "True labels: [0 1 1 0 1]\n",
            "Pred labels: [0 1 1 0 1]\n"
          ]
        }
      ],
      "source": [
        "five_test_inputs = X_train[:5]\n",
        "five_test_labels = y_train[:5]\n",
        "\n",
        "knn = KNNClassifier(k=1)\n",
        "knn.fit(five_test_inputs, five_test_labels)\n",
        "print('True labels:', five_test_labels)\n",
        "print('Pred labels:', knn.predict(five_test_inputs))"
      ]
    },
    {
      "cell_type": "markdown",
      "metadata": {
        "id": "R8Q6p-06KGd2"
      },
      "source": [
        "Since this is a very simple implementation of *k*NN, it is relatively slow -- very slow compared to the scikit-learn implementation which uses data structures such as Ball-tree and KD-tree to find the nearest neighbors more efficiently, as discussed in the lecture.\n",
        "\n",
        "While we won't implement advanced data structures in this class, there is already an obvious opportunity for improving the computational efficiency by replacing for-loops with vectorized NumPy code (as discussed in the lecture). In particular, consider the `_euclidean_dist` method in the `KNNClassifier` class above. Below, I have written is as a function (as opposed to a method), for simplicity:"
      ]
    },
    {
      "cell_type": "code",
      "execution_count": 64,
      "metadata": {
        "id": "-QIaZaRPKGd3"
      },
      "outputs": [],
      "source": [
        "def euclidean_dist(a, b):\n",
        "    dist = 0.\n",
        "    for ele_i, ele_j in zip(a, b):\n",
        "        dist += ((ele_i - ele_j)**2)\n",
        "    dist = dist**0.5\n",
        "    return dist"
      ]
    },
    {
      "cell_type": "markdown",
      "metadata": {
        "id": "rJscZK0EKGd3"
      },
      "source": [
        "Your task is now to benchmark this function using the `%timeit` magic command that we talked about in class using two random vectors, `a` and `b` as function inputs:"
      ]
    },
    {
      "cell_type": "code",
      "execution_count": 65,
      "metadata": {
        "id": "1x-G1nPIKGd3"
      },
      "outputs": [],
      "source": [
        "rng = np.random.RandomState(123)\n",
        "\n",
        "a = rng.rand(100)\n",
        "b = rng.rand(100)"
      ]
    },
    {
      "cell_type": "code",
      "execution_count": 67,
      "metadata": {
        "id": "fLSXkD4vKGd4"
      },
      "outputs": [
        {
          "name": "stdout",
          "output_type": "stream",
          "text": [
            "Time taken for 1000 runs: 0.0532 seconds\n",
            "35.7 μs ± 3.58 μs per loop (mean ± std. dev. of 7 runs, 10,000 loops each)\n"
          ]
        }
      ],
      "source": [
        "# Time the Euclidean distance function using timeit\n",
        "import timeit\n",
        "\n",
        "# Define a wrapper function for timeit\n",
        "def wrapper():\n",
        "    return euclidean_dist(a, b)\n",
        "\n",
        "# Measure the time\n",
        "time_taken = timeit.timeit(wrapper, number=1000)\n",
        "print(f\"Time taken for 1000 runs: {time_taken:.4f} seconds\")\n",
        "\n",
        "# Time the Euclidean distance function\n",
        "%timeit euclidean_dist(a, b)\n"
      ]
    },
    {
      "cell_type": "markdown",
      "metadata": {
        "id": "8MFKXw9bKGd4"
      },
      "source": [
        "## E 21)"
      ]
    },
    {
      "cell_type": "markdown",
      "metadata": {
        "id": "q77LNLtGKGd4"
      },
      "source": [
        "Now, rewrite the Euclidean distance function from E 20) in NumPy using\n",
        "- either using the `np.sqrt` and `np.sum` function\n",
        "- or using the `np.linalg.norm` function\n",
        "\n",
        "and benchmark it again using the `%timeit` magic command. Then, compare results with the results you got in E 22). Did you make the function faster? Yes or No? Explain why, in 1-2 sentences.\n"
      ]
    },
    {
      "cell_type": "code",
      "execution_count": 68,
      "metadata": {
        "id": "S1d0rl3GKGd5"
      },
      "outputs": [
        {
          "name": "stdout",
          "output_type": "stream",
          "text": [
            "Time taken for 1000 runs (NumPy version): 0.0172 seconds\n"
          ]
        }
      ],
      "source": [
        "# using np.sqrt and np.sum function\n",
        "import numpy as np\n",
        "\n",
        "def euclidean_dist_numpy(a, b):\n",
        "    return np.sqrt(np.sum((a - b) ** 2))\n",
        "\n",
        "# Benchmark the function using %timeit in a Jupyter Notebook\n",
        "import timeit\n",
        "\n",
        "# Define a wrapper function for timeit\n",
        "def wrapper_numpy():\n",
        "    return euclidean_dist_numpy(a, b)\n",
        "\n",
        "# Measure the time\n",
        "time_taken_numpy = timeit.timeit(wrapper_numpy, number=1000)\n",
        "print(f\"Time taken for 1000 runs (NumPy version): {time_taken_numpy:.4f} seconds\")\n",
        "\n"
      ]
    },
    {
      "cell_type": "code",
      "execution_count": 69,
      "metadata": {},
      "outputs": [
        {
          "name": "stdout",
          "output_type": "stream",
          "text": [
            "Time taken for 1000 runs (Norm version): 0.0055 seconds\n"
          ]
        }
      ],
      "source": [
        "#using np.linalg.norm\n",
        "import numpy as np\n",
        "\n",
        "def euclidean_dist_norm(a, b):\n",
        "    return np.linalg.norm(a - b)\n",
        "\n",
        "# Benchmark the function using %timeit in a Jupyter Notebook\n",
        "import timeit\n",
        "\n",
        "# Define a wrapper function for timeit\n",
        "def wrapper_norm():\n",
        "    return euclidean_dist_norm(a, b)\n",
        "\n",
        "# Measure the time\n",
        "time_taken_norm = timeit.timeit(wrapper_norm, number=1000)\n",
        "print(f\"Time taken for 1000 runs (Norm version): {time_taken_norm:.4f} seconds\")\n"
      ]
    },
    {
      "cell_type": "markdown",
      "metadata": {
        "id": "L3b6GqgZKGd5"
      },
      "source": [
        "## E 22)"
      ]
    },
    {
      "cell_type": "markdown",
      "metadata": {
        "id": "HaeyhUp3KGd5"
      },
      "source": [
        "Another inefficient aspect of the `KNNClassifier` implementation is that it uses the sorted function to sort all values in the distance value array. Since we are only interested in the *k* nearest neighbors, sorting *all* neighbors is quite unnecessary.\n",
        "\n",
        "Consider the array `c`:"
      ]
    },
    {
      "cell_type": "code",
      "execution_count": 70,
      "metadata": {
        "id": "CNlNKoR-KGd6"
      },
      "outputs": [],
      "source": [
        "rng = np.random.RandomState(123)\n",
        "c = rng.rand(10000)"
      ]
    },
    {
      "cell_type": "markdown",
      "metadata": {
        "id": "ABw1zdUvKGd6"
      },
      "source": [
        "Call the sorted function to select the 3 smallest values in that array, we can do the following:"
      ]
    },
    {
      "cell_type": "code",
      "execution_count": 73,
      "metadata": {
        "id": "BUJtOJN2KGd7"
      },
      "outputs": [],
      "source": [
        "# Define a function to benchmark\n",
        "def benchmark_sorted():\n",
        "    return sorted(c)[:3]"
      ]
    },
    {
      "cell_type": "markdown",
      "metadata": {
        "id": "9v1hjbG4KGd7"
      },
      "source": [
        "In the code cell below, use the `%timeit` magic command to benchmark the sorted command above:"
      ]
    },
    {
      "cell_type": "code",
      "execution_count": 74,
      "metadata": {
        "id": "F6DpssduKGd7"
      },
      "outputs": [
        {
          "name": "stdout",
          "output_type": "stream",
          "text": [
            "Time taken for 1000 runs (sorted): 3.7847 seconds\n"
          ]
        }
      ],
      "source": [
        "# Use %timeit to measure the execution time\n",
        "import timeit\n",
        "\n",
        "# Measure the time for 1000 runs\n",
        "time_taken_sorted = timeit.timeit(benchmark_sorted, number=1000)\n",
        "print(f\"Time taken for 1000 runs (sorted): {time_taken_sorted:.4f} seconds\")"
      ]
    },
    {
      "cell_type": "markdown",
      "metadata": {
        "id": "-NLrjArmKGd8"
      },
      "source": [
        "A more efficient way to select the *k* smallest values from an array is to use a priority queue, for example, implemented using a heap data structure. A convenient `nsmallest` function that does exactly that is available from Python's standard library:"
      ]
    },
    {
      "cell_type": "code",
      "execution_count": 75,
      "metadata": {
        "id": "ZobBp5XSKGd8"
      },
      "outputs": [
        {
          "data": {
            "text/plain": [
              "[6.783831227508141e-05, 8.188761366767494e-05, 0.0001201014889748997]"
            ]
          },
          "execution_count": 75,
          "metadata": {},
          "output_type": "execute_result"
        }
      ],
      "source": [
        "from heapq import nsmallest\n",
        "\n",
        "nsmallest(3, c)"
      ]
    },
    {
      "cell_type": "markdown",
      "metadata": {
        "id": "k0_0_wCtKGd8"
      },
      "source": [
        "In the code cell below, use the `%timeit` magic command to benchmark the `nsmallest` function:"
      ]
    },
    {
      "cell_type": "code",
      "execution_count": 76,
      "metadata": {
        "id": "3-fT1Sp7KGd9"
      },
      "outputs": [
        {
          "name": "stdout",
          "output_type": "stream",
          "text": [
            "Time taken for 1000 runs (nsmallest): 0.8140 seconds\n"
          ]
        }
      ],
      "source": [
        "# Define a function to benchmark\n",
        "def benchmark_nsmallest():\n",
        "    return nsmallest(3, c)\n",
        "\n",
        "# Use %timeit to measure the execution time\n",
        "import timeit\n",
        "\n",
        "# Measure the time for 1000 runs\n",
        "time_taken_nsmallest = timeit.timeit(benchmark_nsmallest, number=1000)\n",
        "print(f\"Time taken for 1000 runs (nsmallest): {time_taken_nsmallest:.4f} seconds\")"
      ]
    },
    {
      "cell_type": "markdown",
      "metadata": {
        "id": "wJPoDiSdKGd9"
      },
      "source": [
        "Summarize your findings in 1-3 sentences."
      ]
    },
    {
      "cell_type": "markdown",
      "metadata": {},
      "source": [
        "## Summary:\n",
        "\n",
        "The nsmallest function is typically more efficient than sorting the entire array and then selecting the smallest k values, especially for large datasets. This is because nsmallest uses a heap data structure, which has better time complexity for finding a small number of smallest elements compared to full sorting. As a result, nsmallest will generally be faster and more suitable for this task than using sorted for large arrays."
      ]
    }
  ],
  "metadata": {
    "colab": {
      "provenance": []
    },
    "kernelspec": {
      "display_name": "Python 3",
      "language": "python",
      "name": "python3"
    },
    "language_info": {
      "codemirror_mode": {
        "name": "ipython",
        "version": 3
      },
      "file_extension": ".py",
      "mimetype": "text/x-python",
      "name": "python",
      "nbconvert_exporter": "python",
      "pygments_lexer": "ipython3",
      "version": "3.11.7"
    }
  },
  "nbformat": 4,
  "nbformat_minor": 0
}
